{
 "cells": [
  {
   "cell_type": "code",
   "execution_count": 2,
   "id": "420b5591-f4a9-4499-a4e3-0b24bc1dd3bc",
   "metadata": {},
   "outputs": [
    {
     "name": "stdout",
     "output_type": "stream",
     "text": [
      "The car Toyota has started.\n",
      "The car BMW has started.\n"
     ]
    }
   ],
   "source": [
    "#Q1. Explain Class and Object with respect to Object-Oriented Programming. Give a suitable example.\n",
    "\n",
    "\"\"\"\n",
    "In object-oriented programming (OOP), a class is a blueprint or a template that defines the characteristics and behaviors of objects.\n",
    "A class defines the properties (attributes) and actions (methods) that objects of that class can have.\n",
    "\"\"\"\n",
    "\n",
    "\"\"\"\n",
    "An object is a specific instance of a class. It represents a tangible or abstract entity that has its own state (attributes) and behavior (methods). \n",
    "Objects are created based on the defined class, and they can interact with each other by invoking methods or accessing attributes.\n",
    "\"\"\"\n",
    "\n",
    "class Car:\n",
    "    def __init__(self, brand, model, color):\n",
    "        self.brand = brand\n",
    "        self.model = model\n",
    "        self.color = color\n",
    "        self.speed = 0\n",
    "    \n",
    "    def start(self):\n",
    "        print(f\"The car {self.brand} has started.\")\n",
    "    \n",
    "    def accelerate(self, speed_increase):\n",
    "        self.speed += speed_increase\n",
    "        print(f\"The car has accelerated to {self.speed} km/h.\")\n",
    "    \n",
    "    def brake(self):\n",
    "        self.speed = 0\n",
    "        print(\"The car has come to a stop.\")\n",
    "        \n",
    "car1 = Car(\"Toyota\", \"Camry\", \"Red\")\n",
    "car2 = Car(\"BMW\", \"X5\", \"Blue\")\n",
    "\n",
    "car1.start()  # Output: The car has started.\n",
    "car2.start()  # Output: The car has started."
   ]
  },
  {
   "cell_type": "code",
   "execution_count": null,
   "id": "7c51970e-fad5-46fa-ace8-43147a3d14bf",
   "metadata": {},
   "outputs": [],
   "source": [
    "#Q2. Name the four pillars of OOPs.\n",
    "\n",
    "\"\"\"\n",
    "1. Encapsulation\n",
    "2. Inheritance\n",
    "3. Polymorphism\n",
    "4. Abstraction\n",
    "\"\"\""
   ]
  },
  {
   "cell_type": "code",
   "execution_count": 4,
   "id": "26fb6827-5f56-4b2f-b497-8d824e77aeb0",
   "metadata": {},
   "outputs": [],
   "source": [
    "#Q3. Explain why the __init__() function is used. Give a suitable example.\n",
    "\n",
    "\"\"\"\n",
    "The __init__() function is a special method in Python classes that is used for initializing newly created objects. \n",
    "It is called a constructor because it is automatically invoked when an object is instantiated from a class. \n",
    "The primary purpose of the __init__() method is to set the initial state (attributes) of an object.\n",
    "\"\"\"\n",
    "\n",
    "class Person:\n",
    "    def __init__(self, name, age, gender):\n",
    "        self.name = name\n",
    "        self.age = age\n",
    "        self.gender = gender\n",
    "person1 = Person(\"Alice\", 25, \"Female\")\n",
    "person2 = Person(\"Bob\", 30, \"Male\")        "
   ]
  },
  {
   "cell_type": "code",
   "execution_count": 6,
   "id": "789b94d9-ff89-4e55-b47b-ff93744f09d4",
   "metadata": {},
   "outputs": [
    {
     "name": "stdout",
     "output_type": "stream",
     "text": [
      "Hello, my name is Praveen and I am 25 years old.\n"
     ]
    }
   ],
   "source": [
    "#Q4. Why self is used in OOPs?\n",
    "\n",
    "\"\"\"\n",
    "In object-oriented programming (OOP), the self parameter is used to refer to the instance of a class within its own methods.\n",
    "It is a convention in Python to use self as the first parameter name in instance methods, although you can use any name you prefer\n",
    "\"\"\"\n",
    "\n",
    "class Person:\n",
    "    def __init__(self, name, age):\n",
    "        self.name = name\n",
    "        self.age = age\n",
    "    \n",
    "    def greet(self):\n",
    "        print(f\"Hello, my name is {self.name} and I am {self.age} years old.\")\n",
    "\n",
    "person1 = Person(\"Praveen\", 25)\n",
    "person1.greet()  # Output: Hello, my name is Alice and I am 25 years old."
   ]
  },
  {
   "cell_type": "code",
   "execution_count": null,
   "id": "3d927df6-a654-4e20-8931-0b260fd69ad3",
   "metadata": {},
   "outputs": [],
   "source": [
    "#Q5. What is inheritance? Give an example for each type of inheritance.\n",
    "\n",
    "\"\"\"\n",
    "Inheritance is a fundamental concept in object-oriented programming (OOP) that allows a class to inherit the properties and behaviors of another class.\n",
    "The class being inherited from is called the base class, parent class, or superclass, while the class inheriting is called the derived class, \n",
    "child class, or subclass. Inheritance promotes code reuse, modularity, and the creation of a hierarchy of classes.\n",
    "\"\"\""
   ]
  },
  {
   "cell_type": "code",
   "execution_count": 7,
   "id": "411bf8c7-1adb-4c4a-8f40-de892c343133",
   "metadata": {},
   "outputs": [
    {
     "name": "stdout",
     "output_type": "stream",
     "text": [
      "I can breathe.\n",
      "I can feed milk.\n"
     ]
    }
   ],
   "source": [
    "#Single Inheritance\n",
    "class Animal:\n",
    "    def breathe(self):\n",
    "        print(\"I can breathe.\")\n",
    "\n",
    "class Mammal(Animal):\n",
    "    def feed_milk(self):\n",
    "        print(\"I can feed milk.\")\n",
    "\n",
    "lion = Mammal()\n",
    "lion.breathe()     # Output: I can breathe.\n",
    "lion.feed_milk()   # Output: I can feed milk."
   ]
  },
  {
   "cell_type": "code",
   "execution_count": 8,
   "id": "fda37eb1-492c-4de9-a38b-3c347501482a",
   "metadata": {},
   "outputs": [
    {
     "name": "stdout",
     "output_type": "stream",
     "text": [
      "I can fly.\n",
      "I can feed milk.\n"
     ]
    }
   ],
   "source": [
    "#Multiple Inheritance:\n",
    "class Bird:\n",
    "    def fly(self):\n",
    "        print(\"I can fly.\")\n",
    "\n",
    "class Mammal:\n",
    "    def feed_milk(self):\n",
    "        print(\"I can feed milk.\")\n",
    "\n",
    "class Bat(Mammal, Bird):\n",
    "    pass\n",
    "\n",
    "bat = Bat()\n",
    "bat.fly()         # Output: I can fly.\n",
    "bat.feed_milk()   # Output: I can feed milk."
   ]
  },
  {
   "cell_type": "code",
   "execution_count": 9,
   "id": "96139561-449d-4648-beb6-5f35611cd7fb",
   "metadata": {},
   "outputs": [
    {
     "name": "stdout",
     "output_type": "stream",
     "text": [
      "I can breathe.\n",
      "I can feed milk.\n",
      "Woof!\n"
     ]
    }
   ],
   "source": [
    "#Multilevel Inheritance:\n",
    "class Animal:\n",
    "    def breathe(self):\n",
    "        print(\"I can breathe.\")\n",
    "\n",
    "class Mammal(Animal):\n",
    "    def feed_milk(self):\n",
    "        print(\"I can feed milk.\")\n",
    "\n",
    "class Dog(Mammal):\n",
    "    def bark(self):\n",
    "        print(\"Woof!\")\n",
    "\n",
    "dog = Dog()\n",
    "dog.breathe()    # Output: I can breathe.\n",
    "dog.feed_milk()  # Output: I can feed milk.\n",
    "dog.bark()       # Output: Woof!"
   ]
  },
  {
   "cell_type": "code",
   "execution_count": 10,
   "id": "b940caa9-3718-45aa-b59f-f5187cbc75b7",
   "metadata": {},
   "outputs": [
    {
     "name": "stdout",
     "output_type": "stream",
     "text": [
      "I can breathe.\n",
      "I can feed milk.\n",
      "I can breathe.\n",
      "I can crawl.\n"
     ]
    }
   ],
   "source": [
    "#Hierarchical Inheritance:\n",
    "class Animal:\n",
    "    def breathe(self):\n",
    "        print(\"I can breathe.\")\n",
    "\n",
    "class Mammal(Animal):\n",
    "    def feed_milk(self):\n",
    "        print(\"I can feed milk.\")\n",
    "\n",
    "class Reptile(Animal):\n",
    "    def crawl(self):\n",
    "        print(\"I can crawl.\")\n",
    "\n",
    "lion = Mammal()\n",
    "snake = Reptile()\n",
    "\n",
    "lion.breathe()   # Output: I can breathe.\n",
    "lion.feed_milk() # Output: I can feed milk.\n",
    "\n",
    "snake.breathe()  # Output: I can breathe.\n",
    "snake.crawl()    # Output: I can crawl."
   ]
  },
  {
   "cell_type": "code",
   "execution_count": 11,
   "id": "a1215420-04e7-4fe1-9066-879d7b842c70",
   "metadata": {},
   "outputs": [
    {
     "name": "stdout",
     "output_type": "stream",
     "text": [
      "I can breathe.\n",
      "I can feed milk.\n",
      "I can fly.\n",
      "I can hang upside down.\n"
     ]
    }
   ],
   "source": [
    "#Hybrid inheritance\n",
    "class Animal:\n",
    "    def breathe(self):\n",
    "        print(\"I can breathe.\")\n",
    "\n",
    "class Mammal(Animal):\n",
    "    def feed_milk(self):\n",
    "        print(\"I can feed milk.\")\n",
    "\n",
    "class Bird(Animal):\n",
    "    def fly(self):\n",
    "        print(\"I can fly.\")\n",
    "\n",
    "class Bat(Mammal, Bird):\n",
    "    def hang(self):\n",
    "        print(\"I can hang upside down.\")\n",
    "\n",
    "bat = Bat()\n",
    "bat.breathe()    # Output: I can breathe.\n",
    "bat.feed_milk()  # Output: I can feed milk.\n",
    "bat.fly()        # Output: I can fly.\n",
    "bat.hang()       # Output: I can hang upside down."
   ]
  },
  {
   "cell_type": "code",
   "execution_count": null,
   "id": "d2576d1c-96c7-47b7-a6e1-cdfb7fbea015",
   "metadata": {},
   "outputs": [],
   "source": []
  }
 ],
 "metadata": {
  "kernelspec": {
   "display_name": "Python 3 (ipykernel)",
   "language": "python",
   "name": "python3"
  },
  "language_info": {
   "codemirror_mode": {
    "name": "ipython",
    "version": 3
   },
   "file_extension": ".py",
   "mimetype": "text/x-python",
   "name": "python",
   "nbconvert_exporter": "python",
   "pygments_lexer": "ipython3",
   "version": "3.10.8"
  }
 },
 "nbformat": 4,
 "nbformat_minor": 5
}
