{
 "cells": [
  {
   "cell_type": "code",
   "execution_count": null,
   "id": "5d46dcbf-2839-49e9-a116-27209f0ad17a",
   "metadata": {},
   "outputs": [],
   "source": [
    "#Q1. Explain GET and POST methods.\n",
    "\n",
    "\"\"\"\n",
    "The GET and POST methods are HTTP request methods used to communicate between a client (such as a web browser) and a server.\n",
    "They are used to retrieve or send data to the server, respectively.\n",
    "\n",
    "GET method:\n",
    "The GET method is primarily used to retrieve data from the server.\n",
    "When a client sends a GET request, it appends the request parameters in the URL's query string.\n",
    "GET requests are typically used to fetch data or retrieve a web page.\n",
    "They are considered \"safe\" and \"idempotent,\" meaning they should not have any side effects on the server and can be repeated without changing the server's state.\n",
    "\n",
    "POST method:\n",
    "The POST method is used to send data to the server for processing or to create/update resources.\n",
    "When a client sends a POST request, the request data is sent in the body of the HTTP request instead of the URL.\n",
    "\"\"\""
   ]
  },
  {
   "cell_type": "code",
   "execution_count": null,
   "id": "8971989c-f37a-4d0b-b0f8-c4eb8333a9c4",
   "metadata": {},
   "outputs": [],
   "source": [
    "#Q2. Why is request used in Flask?\n",
    "\n",
    "\"\"\"\n",
    "In Flask, the request object is used to access incoming client data and information associated with an HTTP request.\n",
    "It provides a way to access data such as form input, query parameters, request headers, and files uploaded by the client.\n",
    "The request object is an instance of the Request class, which is part of the Flask framework.\n",
    "\"\"\"\n",
    "\n",
    "\"\"\"\n",
    "Here are a few reasons why the request object is used in Flask:\n",
    "\n",
    "Accessing form data: When a user submits a form on a web page, the request object allows you to access the form data\n",
    ". You can retrieve values entered by the user in form fields, checkboxes, radio buttons, and select boxes.\n",
    "\n",
    "Query parameters: The request object enables you to extract query parameters from the URL. \n",
    "These parameters are typically used for filtering, sorting, or providing additional information to the server.\n",
    "\n",
    "Handling file uploads: If your Flask application allows file uploads, the request object provides methods to access the uploaded files.\n",
    "You can retrieve the uploaded file(s), access their properties (e.g., filename, content type), and save them to a desired location.\n",
    "\"\"\""
   ]
  },
  {
   "cell_type": "code",
   "execution_count": null,
   "id": "9a74c77b-eca7-4e58-a4f2-a0e133e2eae9",
   "metadata": {},
   "outputs": [],
   "source": [
    "#Q3. Why is redirect() used in Flask?\n",
    "\n",
    "\"\"\"\n",
    "\n",
    "In Flask, the redirect() function is used to redirect the client's browser to a different URL or route within the application. \n",
    "It is a helpful feature for handling various scenarios in web development.\n",
    "\n",
    "Here are a few reasons why the redirect() function is used in Flask:\n",
    "URL redirection: The redirect() function allows you to redirect the user to a different URL. This can be useful when you want to redirect \n",
    "the user after a successful form submission, after authentication, or when you want to direct the user to a different page based on\n",
    "certain conditions.\n",
    "\n",
    "Route redirection: In Flask, routes are defined using the @app.route() decorator. The redirect() function can be used to redirect \n",
    "the user to a different route within your application. This is helpful when you want to route the user to a different endpoint or handle \n",
    "a particular action.\n",
    "\"\"\""
   ]
  },
  {
   "cell_type": "code",
   "execution_count": null,
   "id": "1885271a-ca8b-4820-adac-411e86f905fc",
   "metadata": {},
   "outputs": [],
   "source": [
    "#Q4. What are templates in Flask? Why is the render_template() function used?\n",
    "\n",
    "\"\"\"\n",
    "In Flask, templates are files that contain HTML code with placeholders for dynamic content. They allow you to separate the presentation \n",
    "logic from the application logic. Templates enable you to create dynamic web pages by injecting data into the placeholders,\n",
    "which are typically provided by the Flask application.\n",
    "\"\"\"\n",
    "\n",
    "\"\"\"\n",
    "The render_template() function in Flask is used to render and display the templates. It takes the name of the template file as an argument,\n",
    "along with any additional data that needs to be passed to the template. This function performs the following tasks:\n",
    "\n",
    "Locating the template file: Flask looks for the template file in the templates directory of the Flask project by default. \n",
    "It searches for the template file with the provided name and the appropriate file extension (usually .html or .jinja2).\n",
    "\n",
    "Rendering the template: The render_template() function loads the template file and processes it with the templating engine (Jinja2). \n",
    "It replaces the template variables or tags with the actual data passed to the template.\n",
    "\n",
    "Sending the rendered template to the client: Once the template is rendered, the render_template() function sends the resulting HTML\n",
    "code as a response to the client's browser, which then displays the dynamically generated web page.\n",
    "\"\"\""
   ]
  },
  {
   "cell_type": "code",
   "execution_count": null,
   "id": "e6f096b0-d8f7-4890-b21a-be521ce65e5d",
   "metadata": {},
   "outputs": [],
   "source": [
    "#Q5. Create a simple API. Use Postman to test it. Attach the screenshot of the output in the Jupyter Notebook.\n",
    "\n",
    "\"\"\"\n",
    "attached the sceenshot in git repo.\n",
    "\"\"\""
   ]
  }
 ],
 "metadata": {
  "kernelspec": {
   "display_name": "Python 3 (ipykernel)",
   "language": "python",
   "name": "python3"
  },
  "language_info": {
   "codemirror_mode": {
    "name": "ipython",
    "version": 3
   },
   "file_extension": ".py",
   "mimetype": "text/x-python",
   "name": "python",
   "nbconvert_exporter": "python",
   "pygments_lexer": "ipython3",
   "version": "3.10.8"
  }
 },
 "nbformat": 4,
 "nbformat_minor": 5
}
