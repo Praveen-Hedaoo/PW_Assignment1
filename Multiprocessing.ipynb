{
 "cells": [
  {
   "cell_type": "code",
   "execution_count": null,
   "id": "ff38f32a-99d0-4e8b-a908-c89ee017ef11",
   "metadata": {},
   "outputs": [],
   "source": [
    "#Q1. What is multiprocessing in python? Why is it useful?\n",
    "\n",
    "\"\"\"\n",
    "Multiprocessing in Python is a way of running multiple processes at the same time.\n",
    "Each process has its own memory space and can run independently of the others. \n",
    "This can be useful for tasks that are CPU-intensive or that require a lot of data processing.\n",
    "\n",
    "Here are some of the benefits of using multiprocessing in Python:\n",
    "\n",
    "Increased speed: Multiprocessing can speed up your code by running multiple tasks at the same time. \n",
    "Improved performance: Multiprocessing can improve the performance of your code by reducing the amount of time it takes to complete tasks. \n",
    "Increased scalability: Multiprocessing can make your code more scalable by allowing you to easily add more processes as needed. \n",
    "\"\"\""
   ]
  },
  {
   "cell_type": "code",
   "execution_count": null,
   "id": "b58dd182-944a-414c-947f-1bb810e4f89c",
   "metadata": {},
   "outputs": [],
   "source": [
    "#Q2. What are the differences between multiprocessing and multithreading?\n",
    "\n",
    "\"\"\"\n",
    "Multiprocessing uses multiple CPUs to run different processes. \n",
    "Each process has its own memory space and can run independently of the others. \n",
    "This can be useful for tasks that are CPU-intensive, such as image processing or video encoding.\n",
    "\n",
    "Multithreading uses a single CPU to run multiple threads.\n",
    "Threads share the same memory space and can run concurrently.\n",
    "This can be useful for tasks that are I/O-bound, such as web browsing or file downloading.\n",
    "\"\"\""
   ]
  },
  {
   "cell_type": "code",
   "execution_count": 2,
   "id": "e815dee8-e9bc-414d-9499-7fa808cf7c28",
   "metadata": {},
   "outputs": [
    {
     "name": "stdout",
     "output_type": "stream",
     "text": [
      "9\n"
     ]
    }
   ],
   "source": [
    "#Q3. Write a python code to create a process using the multiprocessing module.\n",
    "\n",
    "import multiprocessing\n",
    "\n",
    "def square(n):\n",
    "    print(n**2)\n",
    "\n",
    "if __name__ == \"__main__\":\n",
    "    process = multiprocessing.Process(target=square,args=(3,))\n",
    "    process.start()\n",
    "    process.join()"
   ]
  },
  {
   "cell_type": "code",
   "execution_count": null,
   "id": "22c5516c-03c8-417b-baff-2220fe0bc318",
   "metadata": {},
   "outputs": [],
   "source": [
    "#Q4. What is a multiprocessing pool in python? Why is it used?\n",
    "\n",
    "\"\"\"\n",
    "A multiprocessing pool in Python is a group of worker processes that can be used to execute tasks in parallel. \n",
    "The multiprocessing.Pool class provides a way to create and manage a pool of worker processes.\n",
    "The multiprocessing.Pool class can be used to execute any function that can be called with a single argument. \n",
    "\n",
    "Here are some of the benefits of using multiprocessing in Python:\n",
    "\n",
    "Increased speed: Multiprocessing can speed up your code by running multiple tasks at the same time. \n",
    "Improved performance: Multiprocessing can improve the performance of your code by reducing the amount of time it takes to complete tasks. \n",
    "Increased scalability: Multiprocessing can make your code more scalable by allowing you to easily add more processes as needed. \n",
    "\"\"\""
   ]
  },
  {
   "cell_type": "code",
   "execution_count": 5,
   "id": "88c96a79-6117-4318-858e-0c74401b48e8",
   "metadata": {},
   "outputs": [
    {
     "name": "stdout",
     "output_type": "stream",
     "text": [
      "square of 0 is 0 for id 2square of 0 is 0 for id 4square of 0 is 0 for id 3\n",
      "\n",
      "\n",
      "square of 1 is 1 for id 2square of 1 is 1 for id 4square of 1 is 1 for id 3\n",
      "\n",
      "\n",
      "square of 2 is 4 for id 2square of 2 is 4 for id 3square of 2 is 4 for id 4\n",
      "\n",
      "\n",
      "square of 3 is 9 for id 2\n",
      "square of 3 is 9 for id 3square of 3 is 9 for id 4\n",
      "\n",
      "square of 4 is 16 for id 2square of 4 is 16 for id 4square of 4 is 16 for id 3\n",
      "\n",
      "\n",
      "square of 0 is 0 for id 5\n",
      "square of 1 is 1 for id 5\n",
      "square of 2 is 4 for id 5\n",
      "square of 3 is 9 for id 5\n",
      "square of 4 is 16 for id 5\n"
     ]
    }
   ],
   "source": [
    "#Q5. How can we create a pool of worker processes in python using the multiprocessing module?\n",
    "\n",
    "import multiprocessing\n",
    "import time\n",
    "\n",
    "def square(n):\n",
    "    for i in range(5):\n",
    "        print(f\"square of {i} is {i**2} for id {n}\")\n",
    "        time.sleep(1)\n",
    "        \n",
    "if __name__ == \"__main__\":\n",
    "    with multiprocessing.Pool(processes = 3) as pool:\n",
    "        pool.map(square, [2,3,4,5])"
   ]
  },
  {
   "cell_type": "code",
   "execution_count": 9,
   "id": "6190316d-415b-4b8a-8d82-c397b60c56cf",
   "metadata": {},
   "outputs": [
    {
     "name": "stdout",
     "output_type": "stream",
     "text": [
      "the number is 1\n",
      "the number is 3\n",
      "the number is 2\n",
      "the number is 4\n",
      "\n",
      "\n",
      "\n",
      "\n"
     ]
    }
   ],
   "source": [
    "\"\"\"\n",
    "Q6. Write a python program to create 4 processes, each process should print a different number using the\n",
    "multiprocessing module in python.\n",
    "\"\"\"\n",
    "\n",
    "import multiprocessing\n",
    "\n",
    "def print_number(number):\n",
    "    print(f\"the number is {number}\\n\")\n",
    "\n",
    "if __name__ == \"__main__\":\n",
    "    with multiprocessing.Pool(processes=4) as pool:\n",
    "        results = pool.map(print_number, range(1, 5))"
   ]
  },
  {
   "cell_type": "code",
   "execution_count": null,
   "id": "11fbb9f0-842f-4633-9530-c3d7801fc529",
   "metadata": {},
   "outputs": [],
   "source": []
  }
 ],
 "metadata": {
  "kernelspec": {
   "display_name": "Python 3 (ipykernel)",
   "language": "python",
   "name": "python3"
  },
  "language_info": {
   "codemirror_mode": {
    "name": "ipython",
    "version": 3
   },
   "file_extension": ".py",
   "mimetype": "text/x-python",
   "name": "python",
   "nbconvert_exporter": "python",
   "pygments_lexer": "ipython3",
   "version": "3.10.8"
  }
 },
 "nbformat": 4,
 "nbformat_minor": 5
}
