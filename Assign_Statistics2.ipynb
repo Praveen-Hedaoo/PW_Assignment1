{
 "cells": [
  {
   "cell_type": "code",
   "execution_count": null,
   "id": "b8f56463-6649-4e6a-be7e-ea8f86a2c0a0",
   "metadata": {},
   "outputs": [],
   "source": [
    "#Q1. What are the three measures of central tendency?\n",
    "\"\"\"\n",
    "The three measures of central tendency are:\n",
    "Mean: The mean, also known as the average, is calculated by adding up all the values in a dataset and then dividing by the total number of \n",
    "values. It provides a balanced representation of the dataset by considering all values.\n",
    "\n",
    "Median: The median is the middle value in a dataset when it is arranged in ascending or descending order. If there is an odd number of \n",
    "values, the median is the middle value. If there is an even number of values, the median is the average of the two middle values.\n",
    "\n",
    "Mode: The mode is the value that appears most frequently in a dataset. A dataset can have one mode (unimodal), more than one mode \n",
    "(multimodal), or no mode if all values are distinct.\n",
    "\"\"\""
   ]
  },
  {
   "cell_type": "code",
   "execution_count": null,
   "id": "da6d9eb7-0b13-47a5-ba00-252751712df3",
   "metadata": {},
   "outputs": [],
   "source": [
    "#Q2. What is the difference between the mean, median, and mode? How are they used to measure the central tendency of a dataset?\n",
    "\n",
    "\"\"\"\n",
    "The mean, median, and mode are all measures of central tendency, which means they provide information about the central or typical value of a dataset.\n",
    "\"\"\"\n",
    "\n",
    "\"\"\"\n",
    "Mean: The mean, also known as the average, is calculated by adding up all the values in a dataset and then dividing by the total number of \n",
    "values. It provides a balanced representation of the dataset by considering all values.\n",
    "\n",
    "Median: The median is the middle value in a dataset when it is arranged in ascending or descending order. If there is an odd number of \n",
    "values, the median is the middle value. If there is an even number of values, the median is the average of the two middle values.\n",
    "\n",
    "Mode: The mode is the value that appears most frequently in a dataset. A dataset can have one mode (unimodal), more than one mode \n",
    "(multimodal), or no mode if all values are distinct.\n",
    "\"\"\""
   ]
  },
  {
   "cell_type": "code",
   "execution_count": 3,
   "id": "3bb21729-80cb-47de-9332-ef880c98c1a3",
   "metadata": {},
   "outputs": [
    {
     "name": "stdout",
     "output_type": "stream",
     "text": [
      "Mean 177.01875\n",
      "Median 177.0\n",
      "Mode ModeResult(mode=array([177.]), count=array([3]))\n"
     ]
    },
    {
     "name": "stderr",
     "output_type": "stream",
     "text": [
      "/tmp/ipykernel_70/2720263299.py:10: FutureWarning: Unlike other reduction functions (e.g. `skew`, `kurtosis`), the default behavior of `mode` typically preserves the axis it acts along. In SciPy 1.11.0, this behavior will change: the default value of `keepdims` will become False, the `axis` over which the statistic is taken will be eliminated, and the value None will no longer be accepted. Set `keepdims` to True or False to avoid this warning.\n",
      "  mode = stats.mode(dataset)\n"
     ]
    }
   ],
   "source": [
    "#Q3. Measure the three measures of central tendency for the given height data:\n",
    "#[178,177,176,177,178.2,178,175,179,180,175,178.9,176.2,177,172.5,178,176.5]\n",
    "\n",
    "import numpy as np\n",
    "from scipy import stats\n",
    "dataset = [178,177,176,177,178.2,178,175,179,180,175,178.9,176.2,177,172.5,178,176.5]\n",
    "\n",
    "mean = np.mean(dataset)\n",
    "median = np.median(dataset)\n",
    "mode = stats.mode(dataset)\n",
    "\n",
    "print(f\"Mean {mean}\")\n",
    "print(f\"Median {median}\")\n",
    "print(f\"Mode {mode}\")"
   ]
  },
  {
   "cell_type": "code",
   "execution_count": 4,
   "id": "f2348573-c8f6-45b7-a226-1e1d5a70d796",
   "metadata": {},
   "outputs": [
    {
     "name": "stdout",
     "output_type": "stream",
     "text": [
      "Standard Deviation: 1.7885814036548633\n"
     ]
    }
   ],
   "source": [
    "#Q4. Find the standard deviation for the given data:\n",
    "#[178,177,176,177,178.2,178,175,179,180,175,178.9,176.2,177,172.5,178,176.5]\n",
    "\n",
    "import numpy as np\n",
    "dataset = [178,177,176,177,178.2,178,175,179,180,175,178.9,176.2,177,172.5,178,176.5]\n",
    "STD = np.std(dataset)\n",
    "print(f\"Standard Deviation: {STD}\")"
   ]
  },
  {
   "cell_type": "code",
   "execution_count": null,
   "id": "fb88e1b0-59de-4e21-b170-572adfd5468b",
   "metadata": {},
   "outputs": [],
   "source": [
    "#Q5. How are measures of dispersion such as range, variance, and standard deviation used to describe the spread of a dataset? Provide an example.\n",
    "\n",
    "\"\"\"\n",
    "Measures of dispersion, such as range, variance, and standard deviation, are used to describe the spread or variability of a dataset. They provide\n",
    "information about how much the values in the dataset deviate from the central tendency measures (mean, median, mode), giving insights into the\n",
    "distribution's spread and variability.\n",
    "\"\"\"\n",
    "\n",
    "\"\"\"\n",
    "Range:\n",
    "The range is the simplest measure of dispersion and is calculated as the difference between the maximum and minimum values in the dataset. It \n",
    "provides a rough estimate of the spread, but it is heavily influenced by extreme values.\n",
    "Example:\n",
    "Consider the following dataset of exam scores: [75, 82, 90, 68, 95].\n",
    "Range = Maximum value - Minimum value = 95 - 68 = 27\n",
    "\n",
    "Variance:\n",
    "The variance measures the average squared deviation of each data point from the mean of the dataset. It provides a more comprehensive understanding of\n",
    "how spread out the data is, taking into account all values in the dataset.\n",
    "Example:\n",
    "Continuing with the exam scores dataset:\n",
    "Mean = (75 + 82 + 90 + 68 + 95) / 5 = 82\n",
    "Calculate the squared deviations from the mean for each value: (75 - 82)^2, (82 - 82)^2, (90 - 82)^2, (68 - 82)^2, (95 - 82)^2\n",
    "Variance = (7^2 + 0^2 + 8^2 + 14^2 + 13^2) / 5 ≈ 53.2\n",
    "\n",
    "Standard Deviation:\n",
    "The standard deviation is the square root of the variance. It provides a measure of the spread that is in the same units as the original data, \n",
    "making it more interpretable than the variance.\n",
    "Example:\n",
    "Continuing with the exam scores dataset:\n",
    "Standard Deviation = √Variance ≈ √53.2 ≈ 7.29\n",
    "\"\"\""
   ]
  },
  {
   "cell_type": "code",
   "execution_count": null,
   "id": "bfa56fb6-0ea4-4273-b67c-fc3979731b35",
   "metadata": {},
   "outputs": [],
   "source": [
    "#Q6. What is a Venn diagram?\n",
    "\n",
    "\"\"\"\n",
    "A Venn diagram is a visual representation used to show the relationships between different sets or groups of items. It consists of overlapping \n",
    "circles or other shapes, with each circle representing a specific set, category, or group. The overlapping regions of the circles show the common \n",
    "elements or attributes shared between those sets. Venn diagrams are commonly used to illustrate concepts of set theory, logic, and relationships \n",
    "between different entities.\n",
    "\"\"\""
   ]
  },
  {
   "cell_type": "code",
   "execution_count": null,
   "id": "601e494f-6f78-40c4-98db-47dd0799664a",
   "metadata": {},
   "outputs": [],
   "source": [
    "#Q7. For the two given sets A = (2,3,4,5,6,7) & B = (0,2,6,8,10). Find:\n",
    "#(i) A ∩ B\n",
    "#(ii) A ⋃ B\n",
    "\n",
    "\"\"\"\n",
    "1. A ∩ B = {2, 6}\n",
    "2. A ⋃ B = {0, 2, 3, 4, 5, 6, 7, 8, 10}\n",
    "\"\"\""
   ]
  },
  {
   "cell_type": "code",
   "execution_count": null,
   "id": "2c3e1fd0-219a-480b-9995-99144926066b",
   "metadata": {},
   "outputs": [],
   "source": [
    "#Q8. What do you understand about skewness in data?\n",
    "\n",
    "\"\"\"\n",
    "Skewness in data refers to the asymmetry of the probability distribution or frequency distribution of a dataset. It indicates whether the data is \n",
    "skewed (lopsided) towards one side of the distribution, either to the left (negatively skewed) or to the right (positively skewed), in relation to \n",
    "the central tendency of the data.\n",
    "\"\"\"\n",
    "\n",
    "\"\"\"\n",
    "Positive Skew (Right Skew):\n",
    "In a positively skewed distribution, the tail on the right side of the distribution is longer than the left side.\n",
    "\"\"\"\n",
    "\"\"\"\n",
    "Negative Skew (Left Skew):\n",
    "In a negatively skewed distribution, the tail on the left side of the distribution is longer than the right side.\n",
    "\"\"\""
   ]
  },
  {
   "cell_type": "code",
   "execution_count": null,
   "id": "690c7dc1-a6a0-40a3-8ce6-c9f3b2e9c9e1",
   "metadata": {},
   "outputs": [],
   "source": [
    "#Q9. If a data is right skewed then what will be the position of median with respect to mean?\n",
    "\"\"\"\n",
    "If a dataset is right-skewed, it means that the distribution is lopsided with a long tail on the right side. In a right-skewed distribution:\n",
    "The Mean: The mean will be pulled in the direction of the long tail, towards the higher values. This is because the presence of outliers or higher \n",
    "values in the right tail of the distribution increases the sum of the values and thus affects the mean.\n",
    "The Median: The median will be positioned to the left of the mean. Since the median is the middle value of a dataset when ordered, it is less\n",
    "sensitive to extreme values or outliers compared to the mean. As a result, in a right-skewed distribution, the median will be closer to the body of\n",
    "the distribution and away from the long tail.\n",
    "\"\"\""
   ]
  },
  {
   "cell_type": "code",
   "execution_count": null,
   "id": "0eb11a34-1c9f-43f5-add0-0508cbf876c2",
   "metadata": {},
   "outputs": [],
   "source": [
    "#Q10. Explain the difference between covariance and correlation. How are these measures used in statistical analysis?\n",
    "\n",
    "\"\"\"\n",
    "Covariance and correlation are both measures used in statistics to quantify the relationship between two variables.\n",
    "\"\"\"\n",
    "\n",
    "\"\"\"\n",
    "Covariance:\n",
    "Covariance measures the degree to which two variables change together. In other words, it indicates the direction of the linear relationship between \n",
    "two variables and whether they tend to increase or decrease together. A positive covariance suggests that as one variable increases, the other\n",
    "variable tends to increase as well. A negative covariance indicates that as one variable increases, the other variable tends to decrease.\n",
    "\"\"\"\n",
    "\n",
    "\"\"\"\n",
    "Correlation:\n",
    "Correlation is a standardized measure that quantifies the strength and direction of the linear relationship between two variables. It's a unitless \n",
    "value that ranges between -1 and 1. A correlation of 1 indicates a perfect positive linear relationship, a correlation of -1 indicates a perfect\n",
    "negative linear relationship, and a correlation of 0 indicates no linear relationship.\n",
    "\"\"\""
   ]
  },
  {
   "cell_type": "code",
   "execution_count": null,
   "id": "c65b9670-66e7-4968-aa94-f116c534b262",
   "metadata": {},
   "outputs": [],
   "source": [
    "#Q11. What is the formula for calculating the sample mean? Provide an example calculation for a dataset.\n",
    "\n",
    "\"\"\"\n",
    "To calculate the sample mean:\n",
    "1.Sum up all the data points\n",
    "2.Count the number of data points (n)\n",
    "3.divide the sum with count (sum/count)\n",
    "\"\"\"\n",
    "\n",
    "\"\"\"\n",
    "The sample mean represents the central tendency of the data and provides a simple and commonly used measure to describe the \"typical\" value in the \n",
    "dataset.\n",
    "\"\"\""
   ]
  },
  {
   "cell_type": "code",
   "execution_count": null,
   "id": "19b2b100-0e17-4c37-83ef-129d439734e9",
   "metadata": {},
   "outputs": [],
   "source": [
    "#Q12. For a normal distribution data what is the relationship between its measure of central tendency?\n",
    "\n",
    "\"\"\"\n",
    "In a perfectly symmetrical normal distribution, the measures of central tendency (mean, median, and mode) are all located at the same point.\n",
    "\n",
    "Mean (Average):\n",
    "In a normal distribution, the mean is located at the center of the distribution.\n",
    "\n",
    "Median:\n",
    "As mentioned above, in a normal distribution, the median is the same as the mean. \n",
    "\n",
    "Mode:\n",
    "The mode in a normal distribution is also at the same point as the mean and median.\n",
    "\"\"\""
   ]
  },
  {
   "cell_type": "code",
   "execution_count": null,
   "id": "2b72caf0-8017-41dd-bc03-b2415c67a858",
   "metadata": {},
   "outputs": [],
   "source": [
    "#Q13. How is covariance different from correlation?\n",
    "\n",
    "\"\"\"\n",
    "Covariance and correlation are both measures used to quantify the relationship between two variables, but they have different\n",
    "properties and interpretations.\n",
    "\n",
    "Covariance: Covariance measures the direction of the linear relationship between two variables. A positive covariance indicates that as one variable\n",
    "increases, the other variable tends to increase as well, and vice versa for negative covariance. However, covariance doesn't provide information \n",
    "about the strength of the relationship.\n",
    "\n",
    "Correlation: Correlation quantifies both the direction and strength of the linear relationship between two variables. It is a standardized measure \n",
    "that ranges from -1 (perfect negative correlation) to 1 (perfect positive correlation), with 0 indicating no linear correlation.\n",
    "\"\"\""
   ]
  },
  {
   "cell_type": "code",
   "execution_count": null,
   "id": "0470672c-1e01-46bb-af15-2f3575ba8e5b",
   "metadata": {},
   "outputs": [],
   "source": [
    "#Q14. How do outliers affect measures of central tendency and dispersion? Provide an example.\n",
    "\n",
    "\"\"\"\n",
    "Outliers are data points that significantly differ from the rest of the data in a dataset. They can have a notable impact on both measures of \n",
    "central tendency (mean, median, mode) and measures of dispersion (range, variance, standard deviation).\n",
    "\"\"\"\n",
    "\n",
    "\"\"\"\n",
    "Central Tendency:\n",
    "\n",
    "Mean: Outliers can heavily influence the mean because the mean is calculated by summing up all the values and dividing by the total number of values.\n",
    "Even a single outlier with an extreme value can significantly pull the mean towards it.\n",
    "Median: The median is less affected by outliers since it is the middle value in an ordered dataset. A few outliers won't affect the median as much, \n",
    "especially if the dataset is relatively large.\n",
    "Mode: Outliers usually don't affect the mode since it represents the most frequently occurring value, which might be the same even if an outlier is present.\n",
    "\n",
    "Dispersion:\n",
    "Range: Outliers can drastically affect the range, as the range is the difference between the maximum and minimum values in the dataset. An outlier \n",
    "can substantially increase or decrease the range.\n",
    "Variance and Standard Deviation: Outliers can significantly impact variance and standard deviation since they are based on the squared differences \n",
    "of each data point from the mean. Outliers can lead to large squared deviations, resulting in a higher variance and, consequently, a higher standard \n",
    "deviation.\n",
    "\n",
    "\n",
    "Example:\n",
    "Consider the following dataset representing the ages of a group of people: [18, 22, 21, 20, 19, 18, 50].\n",
    "\n",
    "Mean: (18 + 22 + 21 + 20 + 19 + 18 + 50) / 7 ≈ 25.43\n",
    "Median: 20\n",
    "Mode: 18 (appears twice)\n",
    "Range: 50 - 18 = 32\n",
    "Variance (without outlier): (32.67 + 13.67 + 5.67 + 1.67 + 0.67 + 13.67 + 777.67) / 7 ≈ 139.81\n",
    "Standard Deviation (without outlier): √139.81 ≈ 11.83\n",
    "If we remove the outlier (50) from the dataset:\n",
    "\n",
    "Mean: (18 + 22 + 21 + 20 + 19 + 18) / 6 ≈ 20.33\n",
    "Median: 20\n",
    "Mode: 18 (appears twice)\n",
    "Range: 22 - 18 = 4\n",
    "Variance (without outlier): (3.56 + 1.56 + 0.56 + 1.22 + 1.89 + 3.56) / 6 ≈ 2.51\n",
    "Standard Deviation (without outlier): √2.51 ≈ 1.58\n",
    "\n",
    "In this example, the outlier (50) significantly affected the mean, range, variance, and standard deviation, while the median and mode remained\n",
    "relatively unaffected. This demonstrates how outliers can distort measures of central tendency and dispersion.\n",
    "\"\"\""
   ]
  }
 ],
 "metadata": {
  "kernelspec": {
   "display_name": "Python 3 (ipykernel)",
   "language": "python",
   "name": "python3"
  },
  "language_info": {
   "codemirror_mode": {
    "name": "ipython",
    "version": 3
   },
   "file_extension": ".py",
   "mimetype": "text/x-python",
   "name": "python",
   "nbconvert_exporter": "python",
   "pygments_lexer": "ipython3",
   "version": "3.10.8"
  }
 },
 "nbformat": 4,
 "nbformat_minor": 5
}
