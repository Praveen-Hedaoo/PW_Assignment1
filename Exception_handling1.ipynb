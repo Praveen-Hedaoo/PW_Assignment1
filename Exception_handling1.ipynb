{
 "cells": [
  {
   "cell_type": "code",
   "execution_count": 1,
   "id": "da35477f-da4b-4342-8f5c-8a0a9995ea78",
   "metadata": {},
   "outputs": [],
   "source": [
    "#Q1: What is an Exception in python? Write the difference between Exceptions and syntax errors\n",
    "\"\"\"\n",
    "In Python, an exception is an event that occurs during the execution of a program that disrupts the normal flow of instructions. \n",
    "When an exceptional condition arises, an exception object is created and the program flow is transferred to an exception handler that can \n",
    "catch and handle the exception.\n",
    "\"\"\"\n",
    "\n",
    "#Exception\n",
    "\"\"\"\n",
    "Exceptions: Exceptions occur during the execution of a program when an error or exceptional condition arises. \n",
    "These can be handled using exception handling mechanisms like try and except blocks.\n",
    "Exceptions can be caught and appropriate actions can be taken to handle the error gracefully, preventing the program from crashing.\n",
    "\"\"\"\n",
    "\n",
    "#Syntax Errors\n",
    "\"\"\"\n",
    "Syntax errors, also known as parsing errors, occur when the Python interpreter encounters code that does not conform to the language's syntax rules.\n",
    "These errors prevent the program from being executed altogether, as they are detected during the parsing phase before the code is executed.\n",
    "\"\"\""
   ]
  },
  {
   "cell_type": "code",
   "execution_count": 3,
   "id": "7e27b8b4-0223-4c97-bdd0-dbef8b1a560d",
   "metadata": {},
   "outputs": [
    {
     "ename": "ZeroDivisionError",
     "evalue": "division by zero",
     "output_type": "error",
     "traceback": [
      "\u001b[0;31m---------------------------------------------------------------------------\u001b[0m",
      "\u001b[0;31mZeroDivisionError\u001b[0m                         Traceback (most recent call last)",
      "Cell \u001b[0;32mIn[3], line 15\u001b[0m\n\u001b[1;32m     12\u001b[0m     result \u001b[38;5;241m=\u001b[39m divide(\u001b[38;5;241m10\u001b[39m, \u001b[38;5;241m0\u001b[39m)  \u001b[38;5;66;03m# Division by zero\u001b[39;00m\n\u001b[1;32m     13\u001b[0m     \u001b[38;5;28mprint\u001b[39m(\u001b[38;5;124m\"\u001b[39m\u001b[38;5;124mResult:\u001b[39m\u001b[38;5;124m\"\u001b[39m, result)\n\u001b[0;32m---> 15\u001b[0m \u001b[43mcalculate\u001b[49m\u001b[43m(\u001b[49m\u001b[43m)\u001b[49m\n",
      "Cell \u001b[0;32mIn[3], line 12\u001b[0m, in \u001b[0;36mcalculate\u001b[0;34m()\u001b[0m\n\u001b[1;32m     11\u001b[0m \u001b[38;5;28;01mdef\u001b[39;00m \u001b[38;5;21mcalculate\u001b[39m():\n\u001b[0;32m---> 12\u001b[0m     result \u001b[38;5;241m=\u001b[39m \u001b[43mdivide\u001b[49m\u001b[43m(\u001b[49m\u001b[38;5;241;43m10\u001b[39;49m\u001b[43m,\u001b[49m\u001b[43m \u001b[49m\u001b[38;5;241;43m0\u001b[39;49m\u001b[43m)\u001b[49m  \u001b[38;5;66;03m# Division by zero\u001b[39;00m\n\u001b[1;32m     13\u001b[0m     \u001b[38;5;28mprint\u001b[39m(\u001b[38;5;124m\"\u001b[39m\u001b[38;5;124mResult:\u001b[39m\u001b[38;5;124m\"\u001b[39m, result)\n",
      "Cell \u001b[0;32mIn[3], line 9\u001b[0m, in \u001b[0;36mdivide\u001b[0;34m(a, b)\u001b[0m\n\u001b[1;32m      8\u001b[0m \u001b[38;5;28;01mdef\u001b[39;00m \u001b[38;5;21mdivide\u001b[39m(a, b):\n\u001b[0;32m----> 9\u001b[0m     \u001b[38;5;28;01mreturn\u001b[39;00m \u001b[43ma\u001b[49m\u001b[43m \u001b[49m\u001b[38;5;241;43m/\u001b[39;49m\u001b[43m \u001b[49m\u001b[43mb\u001b[49m\n",
      "\u001b[0;31mZeroDivisionError\u001b[0m: division by zero"
     ]
    }
   ],
   "source": [
    "#Q2. What happens when an exception is not handled? Explain with an example\n",
    "\n",
    "\"\"\"\n",
    "When an exception is not handled, it propagates up the call stack until it reaches a suitable exception handler or, if none is found,\n",
    "it results in program termination. This is known as an \"unhandled exception\" or \"uncaught exception.\"\n",
    "\"\"\"\n",
    "\n",
    "def divide(a, b):\n",
    "    return a / b\n",
    "\n",
    "def calculate():\n",
    "    result = divide(10, 0)  # Division by zero\n",
    "    print(\"Result:\", result)\n",
    "\n",
    "calculate()"
   ]
  },
  {
   "cell_type": "code",
   "execution_count": 4,
   "id": "e71d0b35-328c-4572-a924-83253f68456e",
   "metadata": {},
   "outputs": [
    {
     "name": "stdout",
     "output_type": "stream",
     "text": [
      "Error: Division by zero is not allowed.\n"
     ]
    }
   ],
   "source": [
    "#Q3. Which Python statements are used to catch and handle exceptions? Explain with an example\n",
    "\"\"\"\n",
    "In Python, the try and except statements are used to catch and handle exceptions. \n",
    "The try block is used to enclose the code that might raise an exception, and the except block is used to specify the code that should be\n",
    "executed if a specific exception occurs.\n",
    "\"\"\"\n",
    "def divide(a, b):\n",
    "    try:\n",
    "        result = a / b\n",
    "        print(\"Result:\", result)\n",
    "    except ZeroDivisionError:\n",
    "        print(\"Error: Division by zero is not allowed.\")\n",
    "\n",
    "divide(10, 0)"
   ]
  },
  {
   "cell_type": "code",
   "execution_count": 7,
   "id": "c0eda064-bfb7-4bc9-a695-6f0a383752e2",
   "metadata": {},
   "outputs": [
    {
     "name": "stdout",
     "output_type": "stream",
     "text": [
      "Result: 5.0\n",
      "Error: Division by zero is not allowed.\n",
      "Finally block executed.\n",
      "Error: You must be at least 18 years old.\n"
     ]
    }
   ],
   "source": [
    "\"\"\"\n",
    "Q4. Explain with an example:\n",
    "a. try and else\n",
    "b. finally\n",
    "c. raise\n",
    "\"\"\"\n",
    "\n",
    "\"\"\"\n",
    "a. try and else:\n",
    "\n",
    "The else block is used in conjunction with the try block to specify code that should be executed if no exception occurs. \n",
    "It is optional and provides a way to differentiate between the code that may raise an exception and the code that should be executed only \n",
    "if the try block completes successfully without any exceptions.\n",
    "\"\"\"\n",
    "def divide(a, b):\n",
    "    try:\n",
    "        result = a / b\n",
    "    except ZeroDivisionError:\n",
    "        print(\"Error: Division by zero is not allowed.\")\n",
    "    else:\n",
    "        print(\"Result:\", result)\n",
    "\n",
    "divide(10, 2)\n",
    "\n",
    "\"\"\"\n",
    "b. finally:\n",
    "\n",
    "The finally block is used to specify code that should be executed regardless of whether an exception occurs or not. \n",
    "It is typically used to perform cleanup operations or release resources that need to be handled in all cases, even if an exception is raised.\n",
    "\"\"\"\n",
    "\n",
    "def divide(a, b):\n",
    "    try:\n",
    "        result = a / b\n",
    "        print(\"Result:\", result)\n",
    "    except ZeroDivisionError:\n",
    "        print(\"Error: Division by zero is not allowed.\")\n",
    "    finally:\n",
    "        print(\"Finally block executed.\")\n",
    "\n",
    "divide(10, 0)\n",
    "\n",
    "\"\"\"\n",
    "c. raise:\n",
    "\n",
    "The raise statement is used to manually raise an exception in Python. \n",
    "It allows you to create and raise custom exceptions or re-raise existing exceptions within your code.\n",
    "\"\"\"\n",
    "\n",
    "def validate_age(age):\n",
    "    if age < 0:\n",
    "        raise ValueError(\"Age cannot be negative.\")\n",
    "    elif age < 18:\n",
    "        raise ValueError(\"You must be at least 18 years old.\")\n",
    "\n",
    "try:\n",
    "    validate_age(15)\n",
    "except ValueError as e:\n",
    "    print(\"Error:\", str(e))"
   ]
  },
  {
   "cell_type": "code",
   "execution_count": 8,
   "id": "3fa5754f-f359-47de-8cb6-eacd5a939254",
   "metadata": {},
   "outputs": [
    {
     "name": "stdout",
     "output_type": "stream",
     "text": [
      "InsufficientFundsError(balance=100, amount=200)\n"
     ]
    }
   ],
   "source": [
    "#Q5. What are Custom Exceptions in python? Why do we need Custom Exceptions? Explain withan example\n",
    "\"\"\"\n",
    "In Python, custom exceptions are user-defined exceptions that allow you to create and raise your own error types.\n",
    "They provide a way to handle specific exceptional situations that are not covered by built-in exceptions. \n",
    "\n",
    "Need:\n",
    "1.Specific error handling\n",
    "2.Code organization and readability\n",
    "3.Modularity and reusability\n",
    "\"\"\"\n",
    "\n",
    "class InsufficientFundsError(Exception):\n",
    "    def __init__(self, balance, amount):\n",
    "        self.balance = balance\n",
    "        self.amount = amount\n",
    "        message = f\"Insufficient funds: balance={balance}, amount={amount}\"\n",
    "        super().__init__(message)\n",
    "\n",
    "    def __str__(self):\n",
    "        return f\"InsufficientFundsError(balance={self.balance}, amount={self.amount})\"\n",
    "\n",
    "\n",
    "class BankAccount:\n",
    "    def __init__(self, balance):\n",
    "        self.balance = balance\n",
    "\n",
    "    def withdraw(self, amount):\n",
    "        if amount > self.balance:\n",
    "            raise InsufficientFundsError(self.balance, amount)\n",
    "        else:\n",
    "            self.balance -= amount\n",
    "            print(f\"Withdrew {amount} from the account. New balance: {self.balance}\")\n",
    "\n",
    "\n",
    "# Example usage\n",
    "account = BankAccount(100)\n",
    "try:\n",
    "    account.withdraw(200)\n",
    "except InsufficientFundsError as e:\n",
    "    print(e)"
   ]
  },
  {
   "cell_type": "code",
   "execution_count": 9,
   "id": "495fd95e-d195-4f57-a39e-3fc9a00e680c",
   "metadata": {},
   "outputs": [
    {
     "name": "stdout",
     "output_type": "stream",
     "text": [
      "InsufficientFundsError(balance=100, amount=200)\n"
     ]
    }
   ],
   "source": [
    "#Q6. Create custom exception class. Use this clss to handle an exception.\n",
    "class InsufficientFundsError(Exception):\n",
    "    def __init__(self, balance, amount):\n",
    "        self.balance = balance\n",
    "        self.amount = amount\n",
    "        message = f\"Insufficient funds: balance={balance}, amount={amount}\"\n",
    "        super().__init__(message)\n",
    "\n",
    "    def __str__(self):\n",
    "        return f\"InsufficientFundsError(balance={self.balance}, amount={self.amount})\"\n",
    "\n",
    "\n",
    "class BankAccount:\n",
    "    def __init__(self, balance):\n",
    "        self.balance = balance\n",
    "\n",
    "    def withdraw(self, amount):\n",
    "        if amount > self.balance:\n",
    "            raise InsufficientFundsError(self.balance, amount)\n",
    "        else:\n",
    "            self.balance -= amount\n",
    "            print(f\"Withdrew {amount} from the account. New balance: {self.balance}\")\n",
    "\n",
    "\n",
    "# Example usage\n",
    "account = BankAccount(100)\n",
    "try:\n",
    "    account.withdraw(200)\n",
    "except InsufficientFundsError as e:\n",
    "    print(e)"
   ]
  },
  {
   "cell_type": "code",
   "execution_count": null,
   "id": "b6e7165e-1a42-45b3-a887-b210bdabc136",
   "metadata": {},
   "outputs": [],
   "source": []
  }
 ],
 "metadata": {
  "kernelspec": {
   "display_name": "Python 3 (ipykernel)",
   "language": "python",
   "name": "python3"
  },
  "language_info": {
   "codemirror_mode": {
    "name": "ipython",
    "version": 3
   },
   "file_extension": ".py",
   "mimetype": "text/x-python",
   "name": "python",
   "nbconvert_exporter": "python",
   "pygments_lexer": "ipython3",
   "version": "3.10.8"
  }
 },
 "nbformat": 4,
 "nbformat_minor": 5
}
