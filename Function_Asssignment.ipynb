{
 "cells": [
  {
   "cell_type": "code",
   "execution_count": 1,
   "id": "7c78de55-0e96-4399-a0f2-b40c15c90127",
   "metadata": {},
   "outputs": [
    {
     "data": {
      "text/plain": [
       "[1, 3, 5, 7, 9, 11, 13, 15, 17, 19, 21, 23]"
      ]
     },
     "execution_count": 1,
     "metadata": {},
     "output_type": "execute_result"
    }
   ],
   "source": [
    "#Q1. Which keyword is used to create a function? Create a function to return a list of odd numbers in the range of 1 to 25.\n",
    "\n",
    "\"\"\" def keyword is used to create a function\"\"\"\n",
    "\n",
    "def Get_Odd_Numbers():\n",
    "    odd_numbers = []\n",
    "    for no in range(1,25):\n",
    "        if(no%2!=0):\n",
    "            odd_numbers.append(no)\n",
    "    return odd_numbers\n",
    "\n",
    "Get_Odd_Numbers()"
   ]
  },
  {
   "cell_type": "code",
   "execution_count": 2,
   "id": "53c60254-7ca3-4ef6-bf1c-7717213ae24c",
   "metadata": {},
   "outputs": [
    {
     "name": "stdout",
     "output_type": "stream",
     "text": [
      "10\n",
      "30\n",
      "name: John\n",
      "age: 25\n",
      "city: New York\n"
     ]
    }
   ],
   "source": [
    "#Q2. Why *args and **kwargs is used in some functions? Create a function each for *args and **kwargs to demonstrate their use.\n",
    "\n",
    "\"\"\"\n",
    "*args and **kwargs are special syntax used in function definitions to allow a variable number of arguments to be passed to a function.\n",
    "The *args parameter allows a function to accept any number of positional arguments as a tuple, \n",
    "The **kwargs parameter allows a function to accept any number of keyword arguments as a dictionary.\n",
    "\"\"\"\n",
    "\n",
    "def sum_values(*args):\n",
    "    total = 0\n",
    "    for num in args:\n",
    "        total += num\n",
    "    return total\n",
    "\n",
    "print(sum_values(1, 2, 3, 4))  # Output: 10\n",
    "print(sum_values(5, 10, 15))   # Output: 30\n",
    "\n",
    "def print_details(**kwargs):\n",
    "    for key, value in kwargs.items():\n",
    "        print(f\"{key}: {value}\")\n",
    "\n",
    "print_details(name=\"John\", age=25, city=\"New York\")"
   ]
  },
  {
   "cell_type": "code",
   "execution_count": 3,
   "id": "7b976306-fc0f-4ac3-a965-6188572ea835",
   "metadata": {},
   "outputs": [
    {
     "name": "stdout",
     "output_type": "stream",
     "text": [
      "2\n",
      "4\n",
      "6\n",
      "8\n",
      "10\n"
     ]
    }
   ],
   "source": [
    "\"\"\"Q3. What is an iterator in python? Name the method used to initialise the iterator object and the method used for iteration. \n",
    "Use these methods to print the first five elements of the given list [2, 4, 6, 8, 10, 12, 14, 16, 18, 20].\"\"\"\n",
    "\n",
    "\"\"\"\n",
    "An iterator is an object that implements the iterator protocol, which consists of two methods: __iter__() and __next__().\n",
    "\n",
    "The __iter__() method is used to initialize an iterator object.\n",
    "It returns the iterator object itself. This method is called when we want to iterate over the elements of an object.\n",
    "\n",
    "The __next__() method is used to retrieve the next element from the iterator.\n",
    "It returns the next item in the sequence. If there are no more elements to return, it raises the StopIteration exception.\"\"\"\n",
    "\n",
    "my_list = [2, 4, 6, 8, 10, 12, 14, 16, 18, 20]\n",
    "\n",
    "# Create an iterator object\n",
    "my_iter = iter(my_list)\n",
    "\n",
    "# Print the first five elements\n",
    "for _ in range(5):\n",
    "    element = next(my_iter)\n",
    "    print(element)"
   ]
  },
  {
   "cell_type": "code",
   "execution_count": 4,
   "id": "88ce38ca-936b-451a-acc0-39f7b4c6b6a4",
   "metadata": {},
   "outputs": [
    {
     "name": "stdout",
     "output_type": "stream",
     "text": [
      "0\n",
      "2\n",
      "4\n",
      "6\n",
      "8\n"
     ]
    }
   ],
   "source": [
    "#Q4. What is a generator function in python? Why yield keyword is used? Give an example of a generator function.\n",
    "\n",
    "\"\"\"\n",
    "A generator function is a special type of function that generates a sequence of values using the yield keyword instead of return.\n",
    "The yield keyword is used in a generator function to indicate where the function should \"pause\" and yield a value to the caller. \n",
    "\"\"\"\n",
    "\n",
    "def even_numbers(n):\n",
    "    for i in range(n):\n",
    "        if i % 2 == 0:\n",
    "            yield i\n",
    "\n",
    "# Use the generator function to print even numbers up to 10\n",
    "for num in even_numbers(10):\n",
    "    print(num)"
   ]
  },
  {
   "cell_type": "code",
   "execution_count": 5,
   "id": "9dc0f811-0e7b-457a-b8f5-2d7b6d9e8712",
   "metadata": {},
   "outputs": [
    {
     "name": "stdout",
     "output_type": "stream",
     "text": [
      "2\n",
      "3\n",
      "5\n",
      "7\n",
      "11\n",
      "13\n",
      "17\n",
      "19\n",
      "23\n",
      "29\n",
      "31\n",
      "37\n",
      "41\n",
      "43\n",
      "47\n",
      "53\n",
      "59\n",
      "61\n",
      "67\n",
      "71\n"
     ]
    }
   ],
   "source": [
    "\"\"\"Q5. Create a generator function for prime numbers less than 1000. Use the next() method to print the\n",
    "first 20 prime numbers.\"\"\"\n",
    "\n",
    "def prime_numbers():\n",
    "    count = 0\n",
    "    number = 2\n",
    "\n",
    "    while count < 20:\n",
    "        if is_prime(number):\n",
    "            yield number\n",
    "            count += 1\n",
    "        number += 1\n",
    "\n",
    "def is_prime(num):\n",
    "    if num < 2:\n",
    "        return False\n",
    "\n",
    "    for i in range(2, int(num ** 0.5) + 1):\n",
    "        if num % i == 0:\n",
    "            return False\n",
    "\n",
    "    return True\n",
    "\n",
    "# Use the generator function to print first 20 prime numbers\n",
    "for num in prime_numbers():\n",
    "    if(num<1000):\n",
    "        print(num)\n",
    "    else:\n",
    "        break;"
   ]
  },
  {
   "cell_type": "code",
   "execution_count": null,
   "id": "588fedfd-83a7-4d7a-838e-f43f32112151",
   "metadata": {},
   "outputs": [],
   "source": []
  }
 ],
 "metadata": {
  "kernelspec": {
   "display_name": "Python 3 (ipykernel)",
   "language": "python",
   "name": "python3"
  },
  "language_info": {
   "codemirror_mode": {
    "name": "ipython",
    "version": 3
   },
   "file_extension": ".py",
   "mimetype": "text/x-python",
   "name": "python",
   "nbconvert_exporter": "python",
   "pygments_lexer": "ipython3",
   "version": "3.10.8"
  }
 },
 "nbformat": 4,
 "nbformat_minor": 5
}
