{
 "cells": [
  {
   "cell_type": "raw",
   "id": "8cca1bf9-c0b8-4b73-a69c-10259d3cda45",
   "metadata": {},
   "source": [
    "##Q1. Create one variable containing following type of data:\n",
    "##(i) string\n",
    "##(ii) list\n",
    "##(iii) float\n",
    "##(iv) tuple\n",
    "\n",
    "string_variable = \"Hello World\"\n",
    "list_variable = [1,2,\"three\",4]\n",
    "float_variable = 10.23\n",
    "tuple_variable = (1,2,3,4)"
   ]
  },
  {
   "cell_type": "code",
   "execution_count": 24,
   "id": "987ebba3-fdd5-4c70-9130-eafa64e013f4",
   "metadata": {},
   "outputs": [
    {
     "name": "stdout",
     "output_type": "stream",
     "text": [
      "1: type: str\n",
      "2: type: str\n",
      "3: type: list\n",
      "4: type: float\n"
     ]
    }
   ],
   "source": [
    "##Q2. Given are some following variables containing data:\n",
    "##(i) var1 = ‘ ‘\n",
    "##(ii) var2 = ‘[ DS , ML , Python]’\n",
    "##(iii) var3 = [ ‘DS’ , ’ML’ , ‘Python’ ]\n",
    "##(iv) var4 = 1.\n",
    "\n",
    "print(\"1: type: str\")\n",
    "print(\"2: type: str\")\n",
    "print(\"3: type: list\")\n",
    "print(\"4: type: float\")"
   ]
  },
  {
   "cell_type": "code",
   "execution_count": 25,
   "id": "1f2d2d95-343d-4fa3-b7c3-61a58648c9ec",
   "metadata": {},
   "outputs": [
    {
     "name": "stdout",
     "output_type": "stream",
     "text": [
      "'/' is used for division\n",
      "'%' is modulo operator and used for getting remainder\n",
      "'//' is used to get int division value\n",
      "'**' is used for calculation power\n"
     ]
    }
   ],
   "source": [
    "##Q3. Explain the use of the following operators using an example:\n",
    "##(i) /\n",
    "##(ii) %\n",
    "##(iii) //\n",
    "##(iv) **\n",
    "\n",
    "print(\"'/' is used for division\")\n",
    "print(\"'%' is modulo operator and used for getting remainder\")\n",
    "print(\"'//' is used to get int division value\")\n",
    "print(\"'**' is used for calculation power\")"
   ]
  },
  {
   "cell_type": "code",
   "execution_count": 26,
   "id": "64c4ca1c-b7d9-42bb-b3b1-41591b4d17a5",
   "metadata": {},
   "outputs": [
    {
     "name": "stdout",
     "output_type": "stream",
     "text": [
      "1 is of type <class 'int'>\n",
      "2 is of type <class 'int'>\n",
      "three is of type <class 'str'>\n",
      "four is of type <class 'str'>\n",
      "5 is of type <class 'int'>\n",
      "[6, 7, 8] is of type <class 'list'>\n",
      "9.0 is of type <class 'float'>\n",
      "ten is of type <class 'str'>\n",
      "eleven is of type <class 'str'>\n",
      "12 is of type <class 'int'>\n"
     ]
    }
   ],
   "source": [
    "\"\"\"Q4. Create a list of length 10 of your choice containing multiple types of data. Using for loop print the\n",
    "element and its data type.\"\"\"\n",
    "\n",
    "multiple_value_list = [1,2,\"three\",\"four\",(5),[6,7,8],9.0,\"ten\",\"eleven\",12]\n",
    "\n",
    "for value in multiple_value_list:\n",
    "    print(f\"{value} is of type {type(value)}\")"
   ]
  },
  {
   "cell_type": "code",
   "execution_count": 14,
   "id": "4b17cc3b-a48c-4c9d-9577-f14e3e355821",
   "metadata": {},
   "outputs": [
    {
     "name": "stdin",
     "output_type": "stream",
     "text": [
      "Enter A 10\n",
      "Enter B 2\n"
     ]
    },
    {
     "name": "stdout",
     "output_type": "stream",
     "text": [
      "10 is purely divisible by 2 and divides 5 no of times\n"
     ]
    }
   ],
   "source": [
    "\"\"\" Q5. Using a while loop, verify if the number A is purely divisible by number B and if so then how many\n",
    "times it can be divisible. \"\"\"\n",
    "\n",
    "A = int(input(\"Enter A\"))\n",
    "B = int(input(\"Enter B\"))\n",
    "if(A<B or B==0):\n",
    "    print(\"Number not divisible\")\n",
    "else:\n",
    "    number = A\n",
    "    steps = 0;\n",
    "    while(A>0):\n",
    "        if(A%B==0):\n",
    "            A = A - B\n",
    "            steps+=1\n",
    "        else:\n",
    "            A = -1\n",
    "            break;\n",
    "    if(A!=-1):\n",
    "        print(f\"{number} is purely divisible by {B} and divides {steps} no of times\")\n",
    "    else:\n",
    "        print(f\"{number} is not purely divisible by {B}\")"
   ]
  },
  {
   "cell_type": "code",
   "execution_count": 15,
   "id": "7b6c514f-f4a8-457e-8b05-7acec82bfe4e",
   "metadata": {},
   "outputs": [
    {
     "name": "stdout",
     "output_type": "stream",
     "text": [
      "1 is not divisible by 3\n",
      "2 is not divisible by 3\n",
      "3 is divisible by 3\n",
      "4 is not divisible by 3\n",
      "5 is not divisible by 3\n",
      "6 is divisible by 3\n",
      "7 is not divisible by 3\n",
      "8 is not divisible by 3\n",
      "9 is divisible by 3\n",
      "10 is not divisible by 3\n",
      "11 is not divisible by 3\n",
      "12 is divisible by 3\n",
      "13 is not divisible by 3\n",
      "14 is not divisible by 3\n",
      "15 is divisible by 3\n",
      "16 is not divisible by 3\n",
      "17 is not divisible by 3\n",
      "18 is divisible by 3\n",
      "19 is not divisible by 3\n",
      "20 is not divisible by 3\n",
      "21 is divisible by 3\n",
      "22 is not divisible by 3\n",
      "23 is not divisible by 3\n",
      "24 is divisible by 3\n",
      "25 is not divisible by 3\n"
     ]
    }
   ],
   "source": [
    "\"\"\"Q6. Create a list containing 25 int type data. Using for loop and if-else condition print if the element is\n",
    "divisible by 3 or not.\"\"\"\n",
    "\n",
    "numbers_list = [1,2,3,4,5,6,7,8,9,10,11,12,13,14,15,16,17,18,19,20,21,22,23,24,25]\n",
    "for number in numbers_list:\n",
    "    if(number%3==0):\n",
    "        print(f\"{number} is divisible by 3\")\n",
    "    else:\n",
    "        print(f\"{number} is not divisible by 3\")"
   ]
  },
  {
   "cell_type": "code",
   "execution_count": 17,
   "id": "6ae17ec2-d3cc-46a4-9b11-9a7fbce6c145",
   "metadata": {},
   "outputs": [
    {
     "name": "stdout",
     "output_type": "stream",
     "text": [
      "[1, 5, 3]\n"
     ]
    }
   ],
   "source": [
    "\"\"\"Q7. What do you understand about mutable and immutable data types? Give examples for both showing\n",
    "this property.\"\"\"\n",
    "\n",
    "#mutable refers to variable that can be changed and point to same memory location\n",
    "list = [1,2,3]\n",
    "list[1] = 5\n",
    "print(list)\n",
    "\n",
    "\n",
    "#immutable means variable that cannot be changed pointed to same memory location\n",
    "string = \"apple\"\n",
    "##string[1] = 'z'  is a invalid operation"
   ]
  },
  {
   "cell_type": "code",
   "execution_count": null,
   "id": "0519641e-2ba3-4c39-b2fb-6e5e3081f8ea",
   "metadata": {},
   "outputs": [],
   "source": []
  }
 ],
 "metadata": {
  "kernelspec": {
   "display_name": "Python 3 (ipykernel)",
   "language": "python",
   "name": "python3"
  },
  "language_info": {
   "codemirror_mode": {
    "name": "ipython",
    "version": 3
   },
   "file_extension": ".py",
   "mimetype": "text/x-python",
   "name": "python",
   "nbconvert_exporter": "python",
   "pygments_lexer": "ipython3",
   "version": "3.10.8"
  }
 },
 "nbformat": 4,
 "nbformat_minor": 5
}
