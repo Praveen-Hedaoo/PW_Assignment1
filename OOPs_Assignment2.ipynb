{
 "cells": [
  {
   "cell_type": "code",
   "execution_count": 3,
   "id": "c4423e28-8376-4550-a4a1-770a92d82731",
   "metadata": {},
   "outputs": [],
   "source": [
    "#Q1, Create a vehicle class with an init method having instance variables as name_of_vehicle, max_speed and average_of_vehicle.\n",
    "\n",
    "class vehicle:\n",
    "    def __init__(self, name_of_vehicle, max_speed, average_of_vehicle):\n",
    "        self.name_of_vehicle = name_of_vehicle\n",
    "        self.max_speed = max_speed\n",
    "        self.average_of_vehicle = average_of_vehicle        "
   ]
  },
  {
   "cell_type": "code",
   "execution_count": 5,
   "id": "366a462a-25b5-4396-a299-56dca78abfe8",
   "metadata": {},
   "outputs": [
    {
     "data": {
      "text/plain": [
       "'name: toyota, capacity: 5'"
      ]
     },
     "execution_count": 5,
     "metadata": {},
     "output_type": "execute_result"
    }
   ],
   "source": [
    "\"\"\"\n",
    "Q2. Create a child class car from the vehicle class created in Que 1, which will inherit the vehicle class.\n",
    "Create a method named seating_capacity which takes capacity as an argument and returns the name of\n",
    "the vehicle and its seating capacity.\n",
    "\"\"\"\n",
    "\n",
    "class car(vehicle):\n",
    "    def seating_capacity(self,capacity):\n",
    "        return(f\"name: {self.name_of_vehicle}, capacity: {capacity}\")\n",
    "    \n",
    "obj_car1 = car(\"toyota\",200,20)\n",
    "obj_car1.seating_capacity(5)"
   ]
  },
  {
   "cell_type": "code",
   "execution_count": 6,
   "id": "269f96eb-f79b-46f9-97db-0b083353ddd3",
   "metadata": {},
   "outputs": [
    {
     "name": "stdout",
     "output_type": "stream",
     "text": [
      "Sparrow is eating.\n",
      "Sparrow is flying.\n",
      "Sparrow is chirping.\n"
     ]
    }
   ],
   "source": [
    "#Q3. What is multiple inheritance? Write a python code to demonstrate multiple inheritance.\n",
    "\n",
    "\"\"\"\n",
    "Multiple inheritance is a feature in object-oriented programming where a class can inherit attributes and methods from more than one parent class. \n",
    "It allows a class to inherit and combine the features of multiple classes, forming a new class that contains the characteristics of all \n",
    "the parent classes.\n",
    "\"\"\"\n",
    "\n",
    "class Animal:\n",
    "    def __init__(self, name):\n",
    "        self.name = name\n",
    "\n",
    "    def eat(self):\n",
    "        print(f\"{self.name} is eating.\")\n",
    "\n",
    "\n",
    "class Flyable:\n",
    "    def fly(self):\n",
    "        print(f\"{self.name} is flying.\")\n",
    "\n",
    "\n",
    "class Bird(Animal, Flyable):\n",
    "    def __init__(self, name):\n",
    "        super().__init__(name)\n",
    "\n",
    "    def chirp(self):\n",
    "        print(f\"{self.name} is chirping.\")\n",
    "\n",
    "# Creating an instance of Bird\n",
    "sparrow = Bird(\"Sparrow\")\n",
    "\n",
    "# Accessing methods from Animal class\n",
    "sparrow.eat()  # Output: Sparrow is eating.\n",
    "\n",
    "# Accessing methods from Flyable class\n",
    "sparrow.fly()  # Output: Sparrow is flying.\n",
    "\n",
    "# Accessing method from Bird class\n",
    "sparrow.chirp()  # Output: Sparrow is chirping."
   ]
  },
  {
   "cell_type": "code",
   "execution_count": 7,
   "id": "48db0be3-a579-4f68-9ccb-5cb6d7a58bda",
   "metadata": {},
   "outputs": [
    {
     "name": "stdout",
     "output_type": "stream",
     "text": [
      "John\n",
      "Jane\n",
      "Invalid name. Please provide a string.\n"
     ]
    }
   ],
   "source": [
    "#Q4. What are getter and setter in python? Create a class and create a getter and a setter method in this class.\n",
    "\n",
    "\"\"\"\n",
    "In Python, getter and setter methods are used to control the access and modification of class attributes. \n",
    "They provide a way to encapsulate attribute access and ensure proper validation or manipulation of the attribute values.\n",
    "\"\"\"\n",
    "\n",
    "class Person:\n",
    "    def __init__(self, name):\n",
    "        self._name = name\n",
    "\n",
    "    def get_name(self):\n",
    "        return self._name\n",
    "\n",
    "    def set_name(self, name):\n",
    "        if isinstance(name, str):\n",
    "            self._name = name\n",
    "        else:\n",
    "            print(\"Invalid name. Please provide a string.\")\n",
    "\n",
    "# Creating an instance of Person\n",
    "person = Person(\"John\")\n",
    "\n",
    "# Using the getter method\n",
    "print(person.get_name())  # Output: John\n",
    "\n",
    "# Using the setter method\n",
    "person.set_name(\"Jane\")\n",
    "print(person.get_name())  # Output: Jane\n",
    "\n",
    "# Trying to set an invalid name\n",
    "person.set_name(123)  # Output: Invalid name. Please provide a string."
   ]
  },
  {
   "cell_type": "code",
   "execution_count": 8,
   "id": "918dd93f-def0-42b6-b0f5-117a77e3f91d",
   "metadata": {},
   "outputs": [
    {
     "name": "stdout",
     "output_type": "stream",
     "text": [
      "Generic animal sound.\n",
      "Meow!\n",
      "Woof!\n"
     ]
    }
   ],
   "source": [
    "#Q5.What is method overriding in python? Write a python code to demonstrate method overriding.\n",
    "\"\"\"\n",
    "Method overriding is a feature in object-oriented programming that allows a subclass to provide a different implementation of a method that is \n",
    "already defined in its superclass. When a method in the subclass has the same name and parameters as a method in the superclass,\n",
    "it overrides the superclass method.\n",
    "\"\"\"\n",
    "\n",
    "class Animal:\n",
    "    def make_sound(self):\n",
    "        print(\"Generic animal sound.\")\n",
    "\n",
    "\n",
    "class Cat(Animal):\n",
    "    def make_sound(self):\n",
    "        print(\"Meow!\")\n",
    "\n",
    "\n",
    "class Dog(Animal):\n",
    "    def make_sound(self):\n",
    "        print(\"Woof!\")\n",
    "\n",
    "\n",
    "# Creating instances of the classes\n",
    "animal = Animal()\n",
    "cat = Cat()\n",
    "dog = Dog()\n",
    "\n",
    "# Calling the overridden method\n",
    "animal.make_sound()  # Output: Generic animal sound.\n",
    "cat.make_sound()     # Output: Meow!\n",
    "dog.make_sound()     # Output: Woof!"
   ]
  },
  {
   "cell_type": "code",
   "execution_count": null,
   "id": "9db382f7-34f2-4f4b-abaa-3a8eb0aa8921",
   "metadata": {},
   "outputs": [],
   "source": []
  }
 ],
 "metadata": {
  "kernelspec": {
   "display_name": "Python 3 (ipykernel)",
   "language": "python",
   "name": "python3"
  },
  "language_info": {
   "codemirror_mode": {
    "name": "ipython",
    "version": 3
   },
   "file_extension": ".py",
   "mimetype": "text/x-python",
   "name": "python",
   "nbconvert_exporter": "python",
   "pygments_lexer": "ipython3",
   "version": "3.10.8"
  }
 },
 "nbformat": 4,
 "nbformat_minor": 5
}
