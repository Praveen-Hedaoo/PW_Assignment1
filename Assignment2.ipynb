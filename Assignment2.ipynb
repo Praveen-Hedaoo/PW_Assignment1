{
 "cells": [
  {
   "cell_type": "code",
   "execution_count": 2,
   "id": "2d94e995-4bf2-4895-929c-e734d83817b3",
   "metadata": {},
   "outputs": [
    {
     "name": "stdout",
     "output_type": "stream",
     "text": [
      "Hello, World!\n",
      "Hello, World!\n"
     ]
    }
   ],
   "source": [
    "##Q1. How do you comment code in Python? What are the different types of comments?\n",
    "\n",
    "#There are two types of comments in Python: single-line comments and multi-line comments.\n",
    "\n",
    "# This is a single-line comment\n",
    "print(\"Hello, World!\")  # This is another comment\n",
    "\n",
    "\"\"\"\n",
    "This is a multi-line comment.\n",
    "It can span across multiple lines.\n",
    "\"\"\"\n",
    "print(\"Hello, World!\")"
   ]
  },
  {
   "cell_type": "code",
   "execution_count": 3,
   "id": "954ce218-e7c1-4c6a-ae17-445b6dfb7ad4",
   "metadata": {},
   "outputs": [
    {
     "name": "stdout",
     "output_type": "stream",
     "text": [
      "In Python, variables are used to store and manipulate data.\n",
      "5\n",
      "Hello\n"
     ]
    }
   ],
   "source": [
    "#Q2. What are variables in Python? How do you declare and assign values to variables?\n",
    "\n",
    "print(\"In Python, variables are used to store and manipulate data.\")\n",
    "x = 5\n",
    "print(x)  # Output: 5\n",
    "\n",
    "x = \"Hello\"\n",
    "print(x)  # Output: Hello"
   ]
  },
  {
   "cell_type": "code",
   "execution_count": 4,
   "id": "85df5ba2-4381-4f24-9a19-73d3bca3598f",
   "metadata": {},
   "outputs": [
    {
     "name": "stdout",
     "output_type": "stream",
     "text": [
      "5.0\n",
      "10\n"
     ]
    }
   ],
   "source": [
    "#Q3. How do you convert one data type to another in Python?\n",
    "\n",
    "\"\"\"In Python, you can convert one data type to another using type conversion functions \n",
    "    1) Explicit 2) Implicit \"\"\"\n",
    "\n",
    "x = 5\n",
    "y = float(x)  # Convert x to float\n",
    "print(y)  # Output: 5.0\n",
    "\n",
    "a = \"10\"\n",
    "b = int(a)  # Convert a to integer\n",
    "print(b)  # Output: 10"
   ]
  },
  {
   "cell_type": "code",
   "execution_count": null,
   "id": "43a155c8-5714-40d1-be5b-b73e707019a1",
   "metadata": {},
   "outputs": [],
   "source": [
    "#Q4. How do you write and execute a Python script from the command line?\n",
    "\n",
    "\"\"\"\n",
    "1) Create a Python script: Using a text editor, create a new file and save it with a .py extension.\n",
    "2) Open a command line interface\n",
    "3) python hello.py\"\"\""
   ]
  },
  {
   "cell_type": "code",
   "execution_count": 7,
   "id": "54f067d1-829b-45e7-8694-93336b890d43",
   "metadata": {},
   "outputs": [
    {
     "name": "stdout",
     "output_type": "stream",
     "text": [
      "[2, 3]\n"
     ]
    }
   ],
   "source": [
    "#Q5. Given a list my_list = [1, 2, 3, 4, 5], write the code to slice the list and obtain the sub-list [2, 3].\n",
    "\n",
    "my_list = [1,2,3,4,5]\n",
    "new_list = my_list[1:3]\n",
    "print(new_list)"
   ]
  },
  {
   "cell_type": "code",
   "execution_count": 8,
   "id": "1b8701de-3fa6-41da-bf38-da6a466302ac",
   "metadata": {},
   "outputs": [
    {
     "name": "stdout",
     "output_type": "stream",
     "text": [
      "In mathematics, a complex number is a number of the form a + bi, where a and b are real numbers, and i is the imaginary unit, defined as the square root of -1. The real part of the complex number is a, and the imaginary part is b.\n",
      "(3+2j)\n",
      "(5+1j)\n"
     ]
    }
   ],
   "source": [
    "#Q6. What is a complex number in mathematics, and how is it represented in Python?\n",
    "\n",
    "print(\"In mathematics, a complex number is a number of the form a + bi, where a and b are real numbers, and i is the imaginary unit, defined as the square root of -1. The real part of the complex number is a, and the imaginary part is b.\")\n",
    "\n",
    "z1 = 2 + 3j\n",
    "z2 = 1 - 1j\n",
    "\n",
    "# Addition\n",
    "result = z1 + z2\n",
    "print(result)  # Output: (3+2j)\n",
    "\n",
    "# Multiplication\n",
    "result = z1 * z2\n",
    "print(result)  # Output: (5+1j)"
   ]
  },
  {
   "cell_type": "code",
   "execution_count": 9,
   "id": "08b5e89f-104d-4b4f-a25c-0a6922506507",
   "metadata": {},
   "outputs": [
    {
     "name": "stdout",
     "output_type": "stream",
     "text": [
      "<class 'int'>\n",
      "25\n"
     ]
    }
   ],
   "source": [
    "#Q7. What is the correct way to declare a variable named age and assign the value 25 to it?\n",
    "\n",
    "age = 25\n",
    "print(type(age))\n",
    "print(age)"
   ]
  },
  {
   "cell_type": "code",
   "execution_count": 10,
   "id": "a1409fd9-a613-4e9d-a9f9-b72904d909ff",
   "metadata": {},
   "outputs": [
    {
     "name": "stdout",
     "output_type": "stream",
     "text": [
      "price belongs to <class 'float'>\n"
     ]
    }
   ],
   "source": [
    "#Q8. Declare a variable named price and assign the value 9.99 to it. What data type does this variable belong to?\n",
    "\n",
    "price = 9.99\n",
    "print(f\"price belongs to {type(price)}\")"
   ]
  },
  {
   "cell_type": "code",
   "execution_count": 11,
   "id": "5d957f17-aa83-494e-91b7-5d4a87d969f0",
   "metadata": {},
   "outputs": [
    {
     "name": "stdout",
     "output_type": "stream",
     "text": [
      "Praveen Chandrakant Hedaoo\n"
     ]
    }
   ],
   "source": [
    "#Q9. Create a variable named name and assign your full name to it as a string. How would you print the value of this variable?\n",
    "\n",
    "name = \"Praveen Chandrakant Hedaoo\"\n",
    "print(name)"
   ]
  },
  {
   "cell_type": "code",
   "execution_count": 13,
   "id": "6c96a466-214c-4d86-8d85-c724391a8b7d",
   "metadata": {},
   "outputs": [
    {
     "name": "stdout",
     "output_type": "stream",
     "text": [
      "World\n"
     ]
    }
   ],
   "source": [
    "#Q10. Given the string \"Hello, World!\", extract the substring \"World\".\n",
    "\n",
    "string = \"Hello, World!\"\n",
    "extracted_string = string[7:12]\n",
    "print(extracted_string)"
   ]
  },
  {
   "cell_type": "code",
   "execution_count": null,
   "id": "6eccb11d-190a-4108-a260-0bfbae014779",
   "metadata": {},
   "outputs": [],
   "source": [
    "#Q11. Create a variable named \"is_student\" and assign it a boolean value indicating whether you are currently a student or not.\n",
    "\n",
    "is_student = False"
   ]
  }
 ],
 "metadata": {
  "kernelspec": {
   "display_name": "Python 3 (ipykernel)",
   "language": "python",
   "name": "python3"
  },
  "language_info": {
   "codemirror_mode": {
    "name": "ipython",
    "version": 3
   },
   "file_extension": ".py",
   "mimetype": "text/x-python",
   "name": "python",
   "nbconvert_exporter": "python",
   "pygments_lexer": "ipython3",
   "version": "3.10.8"
  }
 },
 "nbformat": 4,
 "nbformat_minor": 5
}
